{
 "cells": [
  {
   "cell_type": "code",
   "execution_count": 1,
   "id": "e693f43f-8463-487b-9e34-a7b9d3af9db3",
   "metadata": {},
   "outputs": [
    {
     "data": {
      "text/plain": [
       "\"\\n1. Search for an open opportunity at your possible potential clients\\n2. Search for relevant information from the opening that might act as a good starting point for your business with this company\\n3. Go through all of your company's projects and find relevant projects\\n4. Get important to share information about these projects\\n5. Write a compelling cold email about how your firm can be of great service to your potential client\\n6. Repeat for ALL potential clients\\n\""
      ]
     },
     "execution_count": 1,
     "metadata": {},
     "output_type": "execute_result"
    }
   ],
   "source": [
    "\"\"\"\n",
    "1. Search for an open opportunity at your possible potential clients\n",
    "2. Search for relevant information from the opening that might act as a good starting point for your business with this company\n",
    "3. Go through all of your company's projects and find relevant projects\n",
    "4. Get important to share information about these projects\n",
    "5. Write a compelling cold email about how your firm can be of great service to your potential client\n",
    "6. Repeat for ALL potential clients\n",
    "\"\"\""
   ]
  },
  {
   "cell_type": "code",
   "execution_count": 2,
   "id": "7eeaf68d-d622-489c-9397-5dba3603d160",
   "metadata": {},
   "outputs": [
    {
     "name": "stdout",
     "output_type": "stream",
     "text": [
      "\u001b[1mLoading .env environment variables\u001b[0m\u001b[1;33m...\u001b[0m\n",
      "\u001b[1;32mInstalling langchain_community...\u001b[0m\n",
      "✔ Installation Succeeded\n",
      "\u001b[1mInstalling dependencies from Pipfile.lock \u001b[0m\u001b[1;39m(f6673e)...\u001b[0m\n",
      "\u001b[32mAll dependencies are now up-to-date!\u001b[0m\n",
      "\u001b[1;32mUpgrading\u001b[0m langchain_community in \u001b[39m dependencies.\u001b[0m\n",
      "\u001b[?25lBuilding requirements...\n",
      "\u001b[2KResolving dependencies....\n",
      "\u001b[2K✔ Success! Locking packages...\n",
      "\u001b[2K\u001b[32m⠙\u001b[0m Locking packages...\n",
      "\u001b[1A\u001b[2K\u001b[?25lBuilding requirements...\n",
      "\u001b[2KResolving dependencies....\n",
      "\u001b[2K✔ Success! Locking packages...\n",
      "\u001b[2K\u001b[32m⠴\u001b[0m Locking packages...\n",
      "\u001b[1A\u001b[2K\u001b[?25lBuilding requirements...\n",
      "\u001b[2KResolving dependencies....\n",
      "\u001b[2K✔ Success! Locking packages...\n",
      "\u001b[2K\u001b[32m⠼\u001b[0m Locking packages...\n",
      "\u001b[1A\u001b[2K\u001b[1mInstalling dependencies from Pipfile.lock \u001b[0m\u001b[1;39m(36fc99)...\u001b[0m\n",
      "\u001b[32mAll dependencies are now up-to-date!\u001b[0m\n",
      "\u001b[1mInstalling dependencies from Pipfile.lock \u001b[0m\u001b[1;39m(36fc99)...\u001b[0m\n"
     ]
    }
   ],
   "source": [
    "#webscrapping\n",
    "!pipenv install langchain_community"
   ]
  },
  {
   "cell_type": "code",
   "execution_count": 12,
   "id": "17dfb9e3-d826-44e4-8649-3dbee2462b18",
   "metadata": {},
   "outputs": [],
   "source": [
    "from langchain_community.document_loaders import WebBaseLoader\n",
    "\n",
    "loader = WebBaseLoader(\"https://careers.nike.com/director-software-engineering/job/R-43982\")\n",
    "page_data = loader.load().pop().page_content"
   ]
  },
  {
   "cell_type": "code",
   "execution_count": 4,
   "id": "84f5e3dc-6c4b-47e0-bf70-84f511ebdf8d",
   "metadata": {},
   "outputs": [
    {
     "name": "stdout",
     "output_type": "stream",
     "text": [
      "Mohammed bin Rashid Al Maktoum is the Vice President and Prime Minister of the UAE, however, the actual day-to-day work is carried out by Mohammed bin Rashid Al Maktoum's deputy, Mohammed bin Abdullah Al Gergawi, who is the Minister of Cabinet Affairs.\n"
     ]
    }
   ],
   "source": [
    "from dotenv import load_dotenv\n",
    "import os\n",
    "load_dotenv()\n",
    "api_key = os.getenv(\"GROQ_API_KEY\")\n",
    "from langchain_groq import ChatGroq\n",
    "llm = ChatGroq(\n",
    "    model=\"llama-3.1-8b-instant\",\n",
    "    temperature=0,\n",
    "    max_tokens=None,\n",
    "    timeout=None, \n",
    "    max_retries=2,\n",
    ")\n",
    "response = llm.invoke(\"who is the prime minister of uae, no preamble\")\n",
    "print(response.content)"
   ]
  },
  {
   "cell_type": "code",
   "execution_count": 13,
   "id": "94e49757-b715-4aaf-999d-db557f12e16f",
   "metadata": {},
   "outputs": [
    {
     "name": "stdout",
     "output_type": "stream",
     "text": [
      "<class 'str'>\n",
      "{\n",
      "  \"role\": \"Director, Software Engineering\",\n",
      "  \"experience\": {\n",
      "    \"required\": 15,\n",
      "    \"leadership\": 5,\n",
      "    \"experience\": \"High performing software engineering teams\",\n",
      "    \"fields\": [\n",
      "      \"Agile software development methodology and DevOps (CICD)\",\n",
      "      \"Deploying monitoring and tracing solutions using tools like Splunk, SignalFx and New Relic\",\n",
      "      \"Modern software architectural principles and patterns (REST, domain-driven design, microservices, etc.)\",\n",
      "      \"Front-end web application tech (javascript, CSS, html5, Vue, React/redux)\",\n",
      "      \"Distributed cloud systems tech (node.js, Python, EC2, Kubernetes, Lambda, DynamoDB, Elasticsearch, or Google Cloud/Azure equivalents)\",\n",
      "      \"3D computer graphics development\",\n",
      "      \"Implementing and integrating AI, Machine Learning and related data solutions\"\n",
      "    ]\n",
      "  },\n",
      "  \"skills\": [\n",
      "    \"Excellent verbal and written communication skills, both technical and business-facing\",\n",
      "    \"Strength in strategic thinking and translating strategy to measurable objectives\",\n",
      "    \"Track record of inspiring others & positive change in solution design, technical delivery, and process improvement\",\n",
      "    \"Passion for learning new technologies, patterns, and practices\"\n",
      "  ],\n",
      "  \"description\": \"Lead development of Nike’s Product Design platforms and experiences. Plan engineering capacity, manage third-party engagements, and lead a software delivery organization to innovate and deliver business value at scale.\"\n",
      "}\n"
     ]
    }
   ],
   "source": [
    "from langchain_core.prompts import PromptTemplate\n",
    "\n",
    "prompt_extract = PromptTemplate.from_template(\n",
    "    \"\"\"\n",
    "    I will give you scraped text from the job posting. \n",
    "    Your job is to extract the job details & requirements in a JSON format containing the following keys: 'role', 'experience', 'skills', and 'description'. \n",
    "    Only return valid JSON. No preamble, please.\n",
    "    Here is the scraped text: {page_data}\n",
    "    \"\"\"\n",
    ")\n",
    "\n",
    "chain_extract = prompt_extract | llm \n",
    "response = chain_extract.invoke(input={'page_data':page_data})\n",
    "print(type(response.content))\n",
    "print(response.content)"
   ]
  },
  {
   "cell_type": "code",
   "execution_count": 16,
   "id": "9109da6a-5544-48a0-8063-99bc1f4a57b7",
   "metadata": {},
   "outputs": [
    {
     "name": "stdout",
     "output_type": "stream",
     "text": [
      "<class 'dict'>\n"
     ]
    }
   ],
   "source": [
    "from langchain_core.output_parsers import JsonOutputParser\n",
    "\n",
    "json_parser = JsonOutputParser()\n",
    "json_response = json_parser.parse(response.content)\n",
    "print(type(json_response))"
   ]
  },
  {
   "cell_type": "code",
   "execution_count": 17,
   "id": "13d5f5a7-8bff-4a15-8796-912e43ed4494",
   "metadata": {},
   "outputs": [
    {
     "name": "stdout",
     "output_type": "stream",
     "text": [
      "('Python', ' SQL', ' Pandas')  https://github.com/user/project1\n",
      "('SQL', ' Python', ' Airflow')  https://github.com/user/project2\n",
      "('PySpark', ' Spark SQL', ' Delta Lake')  https://github.com/user/project3\n",
      "('Machine Learning', ' Deep Learning', ' TensorFlow')  https://github.com/user/project4\n",
      "('Data Engineering', ' ETL', ' ELT')  https://github.com/user/project5\n",
      "('Cloud Platforms (AWS', ' GCP', ' Azure)')  https://github.com/user/project6\n",
      "('Data Warehousing', ' Data Modeling', ' DBT')  https://github.com/user/project7\n",
      "('Data Visualization', ' Power BI', ' Tableau')  https://github.com/user/project8\n",
      "('MLOps', ' MLflow', ' Kubeflow')  https://github.com/user/project9\n",
      "('Natural Language Processing (NLP)', ' NLTK', ' spaCy')  https://github.com/user/project10\n",
      "('Computer Vision', ' OpenCV', ' TensorFlow')  https://github.com/user/project11\n",
      "('Time Series Analysis', ' Forecasting', ' Prophet')  https://github.com/user/project12\n",
      "('Data Cleaning', ' Data Wrangling', ' Pandas')  https://github.com/user/project13\n",
      "('Feature Engineering', ' Scikit-learn')  https://github.com/user/project14\n",
      "('Statistical Analysis', ' Hypothesis Testing')  https://github.com/user/project15\n",
      "('Data Ethics', ' Privacy', ' GDPR')  https://github.com/user/project16\n",
      "('Big Data', ' Hadoop', ' Spark')  https://github.com/user/project17\n",
      "('Data Governance', ' Data Quality', ' Metadata Management')  https://github.com/user/project18\n",
      "('Data Security', ' Encryption', ' Tokenization')  https://github.com/user/project19\n",
      "('Cloud Data Engineering', ' AWS Glue', ' Databricks')  https://github.com/user/project20\n"
     ]
    }
   ],
   "source": [
    "import csv\n",
    "\n",
    "def read_csv_file(file_path):\n",
    "    data = []\n",
    "    with open(file_path, 'r') as file:\n",
    "        csv_reader = csv.reader(file)\n",
    "        # Skip the header row\n",
    "        next(csv_reader)\n",
    "        for row in csv_reader:\n",
    "            # Separate technical skills (list) and project link (string)\n",
    "            skills = tuple(row[:-1])  # Exclude the last element (project link)\n",
    "            project_link = row[-1]  # Get the last element (project link)\n",
    "            data.append((skills, project_link))  # Create a tuple with skills and link\n",
    "    return data\n",
    "\n",
    "# Example usage:\n",
    "file_path = 'sample_portfolio.csv'  # Replace with your actual file path\n",
    "data = read_csv_file(file_path)\n",
    "\n",
    "for skills, project_link in data:\n",
    "    print(skills, project_link)\n",
    "    #print(project_link)"
   ]
  },
  {
   "cell_type": "code",
   "execution_count": 18,
   "id": "17330144-6952-4b01-b2e7-71e0f36ee696",
   "metadata": {},
   "outputs": [],
   "source": [
    "import uuid\n",
    "import chromadb\n",
    "\n",
    "client = chromadb.PersistentClient('vectorstore')\n",
    "collection = client.get_or_create_collection(name='portfolio_links')\n",
    "\n",
    "if not collection.count():\n",
    "    for skills, project_url in data:\n",
    "        collection.add(\n",
    "            documents=str(skills),\n",
    "            metadatas={'portfolio_url':project_url},\n",
    "            ids=[str(uuid.uuid4())]\n",
    "        )"
   ]
  },
  {
   "cell_type": "code",
   "execution_count": 19,
   "id": "8472b317-a429-4072-b6ac-cd355f295be6",
   "metadata": {},
   "outputs": [
    {
     "data": {
      "text/plain": [
       "['Excellent verbal and written communication skills, both technical and business-facing',\n",
       " 'Strength in strategic thinking and translating strategy to measurable objectives',\n",
       " 'Track record of inspiring others & positive change in solution design, technical delivery, and process improvement',\n",
       " 'Passion for learning new technologies, patterns, and practices']"
      ]
     },
     "execution_count": 19,
     "metadata": {},
     "output_type": "execute_result"
    }
   ],
   "source": [
    "json_response['skills']"
   ]
  },
  {
   "cell_type": "code",
   "execution_count": 20,
   "id": "eb9e6c7d-6604-4a8a-b09e-9f0fbf7ef99c",
   "metadata": {},
   "outputs": [
    {
     "data": {
      "text/plain": [
       "{'ids': [['53ee9f3b-d18d-4820-92e1-bb87ec13f1ff',\n",
       "   '3e1b5163-d958-4ff4-851c-a60b86a61369'],\n",
       "  ['7572aee3-5128-45d6-ade0-d15df9a4c053',\n",
       "   '86b5a3fb-7e82-4c31-997e-1d0192bd0bc3'],\n",
       "  ['c039d752-edc6-4f80-82d2-d7c5099379d9',\n",
       "   '3e1b5163-d958-4ff4-851c-a60b86a61369'],\n",
       "  ['c039d752-edc6-4f80-82d2-d7c5099379d9',\n",
       "   '801c0131-b2bf-49d1-a17f-a4d52a6afcab']],\n",
       " 'embeddings': None,\n",
       " 'documents': [[\"('Data Engineering', ' ETL', ' ELT')\",\n",
       "   \"('Data Governance', ' Data Quality', ' Metadata Management')\"],\n",
       "  [\"('Statistical Analysis', ' Hypothesis Testing')\",\n",
       "   \"('Time Series Analysis', ' Forecasting', ' Prophet')\"],\n",
       "  [\"('Feature Engineering', ' Scikit-learn')\",\n",
       "   \"('Data Governance', ' Data Quality', ' Metadata Management')\"],\n",
       "  [\"('Feature Engineering', ' Scikit-learn')\",\n",
       "   \"('Machine Learning', ' Deep Learning', ' TensorFlow')\"]],\n",
       " 'uris': None,\n",
       " 'included': ['metadatas', 'documents', 'distances'],\n",
       " 'data': None,\n",
       " 'metadatas': [[{'portfolio_url': ' https://github.com/user/project5'},\n",
       "   {'portfolio_url': ' https://github.com/user/project18'}],\n",
       "  [{'portfolio_url': ' https://github.com/user/project15'},\n",
       "   {'portfolio_url': ' https://github.com/user/project12'}],\n",
       "  [{'portfolio_url': ' https://github.com/user/project14'},\n",
       "   {'portfolio_url': ' https://github.com/user/project18'}],\n",
       "  [{'portfolio_url': ' https://github.com/user/project14'},\n",
       "   {'portfolio_url': ' https://github.com/user/project4'}]],\n",
       " 'distances': [[1.4700543880462646, 1.5140076875686646],\n",
       "  [1.5548875331878662, 1.621654987335205],\n",
       "  [1.4311432838439941, 1.5646612644195557],\n",
       "  [1.079750895500183, 1.2896795272827148]]}"
      ]
     },
     "execution_count": 20,
     "metadata": {},
     "output_type": "execute_result"
    }
   ],
   "source": [
    "portfolio_urls = collection.query(query_texts=json_response['skills'], n_results=2)\n",
    "portfolio_urls"
   ]
  },
  {
   "cell_type": "code",
   "execution_count": 21,
   "id": "e21a3a5d-2013-4311-8845-9b1563d2e96a",
   "metadata": {},
   "outputs": [],
   "source": [
    "job_description = json_response['description']"
   ]
  },
  {
   "cell_type": "code",
   "execution_count": 24,
   "id": "c387a9b0-9e35-4144-bb82-42e88f4b7fca",
   "metadata": {},
   "outputs": [
    {
     "name": "stdout",
     "output_type": "stream",
     "text": [
      "Subject: Unlocking Innovation in Product Design Platforms\n",
      "\n",
      "Dear Hiring Manager at Nike,\n",
      "\n",
      "I came across your job posting for a Lead Development role in Product Design platforms and experiences. As a Business Development Officer at X Consulting firm, I'm excited to introduce our expertise in Data Science and AI solutions that can help you innovate and deliver business value at scale.\n",
      "\n",
      "At X Consulting, we've helped numerous clients like [Client 1](https://github.com/user/project5) and [Client 2](https://github.com/user/project18) develop efficient product design platforms. Our team has experience in managing third-party engagements and leading software delivery organizations to achieve business goals.\n",
      "\n",
      "Our portfolio showcases our capabilities in:\n",
      "\n",
      "- Data Engineering: We've successfully implemented ETL and ELT processes for clients like [Client 3](https://github.com/user/project15) and [Client 4](https://github.com/user/project12).\n",
      "- Statistical Analysis: Our team has expertise in hypothesis testing and time series analysis, as seen in our work with [Client 5](https://github.com/user/project14) and [Client 6](https://github.com/user/project18).\n",
      "- Feature Engineering: We've used Scikit-learn to develop feature engineering solutions for clients like [Client 7](https://github.com/user/project14) and [Client 8](https://github.com/user/project4).\n",
      "\n",
      "I'd love to discuss how our expertise can help you achieve your goals in product design platforms. Please let me know if you're interested in scheduling a call to explore further.\n",
      "\n",
      "Best regards,\n",
      "Utsav\n",
      "Business Development Officer, X Consulting firm\n"
     ]
    }
   ],
   "source": [
    "email_prompt = PromptTemplate.from_template(\n",
    "    \"\"\"\n",
    "    I will give you a role and a task that you have to perform in that specific role.\n",
    "    Your Role: Your name is Utsav, You are an incredible business development officer who knows how to get clients. You work for X Consulting firm, your firm works with all sorts of IT clients and provide solutions in the domain of Data Science and AI. \n",
    "    X AI focuses on efficient tailored solutions for all clients keeping costs down. \n",
    "    Your Job: Your Job is to write cold emails to clients regarding the Job openings that they have advertised. Try to pitch your clients with an email hook that opens a conversation about a possibility of working with them. Add the most relevant portfolio URLs from\n",
    "    the following (shared below) to showcase that we have the right expertise to get the job done. \n",
    "    and remove if any This email aims to\n",
    "    I will now provide you with the Job description and the portfolio URLs:\n",
    "    JOB DESCRIPTION: {job_description}\n",
    "    ------\n",
    "    PORTFOLIO URLS: {portfolio_urls}\n",
    "    \"\"\"\n",
    ")\n",
    "\n",
    "chain_email = email_prompt | llm\n",
    "response = chain_email.invoke({'job_description':job_description, 'portfolio_urls':portfolio_urls})\n",
    "print(response.content)"
   ]
  },
  {
   "cell_type": "code",
   "execution_count": null,
   "id": "f7040ba6-7304-4347-bef6-ca9e6c79b959",
   "metadata": {},
   "outputs": [],
   "source": []
  }
 ],
 "metadata": {
  "kernelspec": {
   "display_name": "Python 3 (ipykernel)",
   "language": "python",
   "name": "python3"
  },
  "language_info": {
   "codemirror_mode": {
    "name": "ipython",
    "version": 3
   },
   "file_extension": ".py",
   "mimetype": "text/x-python",
   "name": "python",
   "nbconvert_exporter": "python",
   "pygments_lexer": "ipython3",
   "version": "3.11.0"
  }
 },
 "nbformat": 4,
 "nbformat_minor": 5
}
