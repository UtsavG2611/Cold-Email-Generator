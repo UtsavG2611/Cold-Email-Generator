{
 "cells": [
  {
   "cell_type": "code",
   "execution_count": 1,
   "id": "bd2b280f-1aed-4d5a-99ff-e31acaa294f6",
   "metadata": {},
   "outputs": [
    {
     "name": "stdout",
     "output_type": "stream",
     "text": [
      "\u001b[1mLoading .env environment variables\u001b[0m\u001b[1;33m...\u001b[0m\n",
      "\u001b[1;32mInstalling langchain_groq...\u001b[0m\n",
      "✔ Installation Succeeded\n",
      "\u001b[1mInstalling dependencies from Pipfile.lock \u001b[0m\u001b[1;39m(7970c8)...\u001b[0m\n",
      "\u001b[32mAll dependencies are now up-to-date!\u001b[0m\n",
      "\u001b[1;32mUpgrading\u001b[0m langchain_groq in \u001b[39m dependencies.\u001b[0m\n",
      "\u001b[?25lBuilding requirements...\n",
      "\u001b[2KResolving dependencies....\n",
      "\u001b[2K✔ Success! Locking packages...\n",
      "\u001b[2K\u001b[32m⠏\u001b[0m Locking packages...\n",
      "\u001b[1A\u001b[2K\u001b[?25lBuilding requirements...\n",
      "\u001b[2KResolving dependencies....\n",
      "\u001b[2K✔ Success! Locking packages...\n",
      "\u001b[2K\u001b[32m⠹\u001b[0m Locking packages...\n",
      "\u001b[1A\u001b[2K\u001b[?25lBuilding requirements...\n",
      "\u001b[2KResolving dependencies....\n",
      "\u001b[2K✔ Success! Locking packages...\n",
      "\u001b[2K\u001b[32m⠇\u001b[0m Locking packages...\n",
      "\u001b[1A\u001b[2K\u001b[1mInstalling dependencies from Pipfile.lock \u001b[0m\u001b[1;39m(a4a4c5)...\u001b[0m\n",
      "\u001b[32mAll dependencies are now up-to-date!\u001b[0m\n",
      "\u001b[1mInstalling dependencies from Pipfile.lock \u001b[0m\u001b[1;39m(a4a4c5)...\u001b[0m\n"
     ]
    }
   ],
   "source": [
    "!pipenv install langchain_groq\n"
   ]
  },
  {
   "cell_type": "code",
   "execution_count": 15,
   "id": "99e3ef50-5718-47c3-8365-98ef963b95cd",
   "metadata": {},
   "outputs": [
    {
     "name": "stdout",
     "output_type": "stream",
     "text": [
      "Determining the \"best footballer of all time\" is subjective and often sparks debate among football fans and experts. However, based on various polls, awards, and expert opinions, I can provide some insights.\n",
      "\n",
      "Some of the top contenders for the title include:\n",
      "\n",
      "1. **Lionel Messi**: Regarded by many as the greatest of all time, Messi has won a record-breaking seven Ballon d'Or awards, ten La Liga titles, and four UEFA Champions League titles. He has consistently dominated the sport with his exceptional dribbling skills, vision, and goal-scoring ability.\n",
      "2. **Cristiano Ronaldo**: A five-time Ballon d'Or winner, Ronaldo has achieved incredible success with Manchester United, Real Madrid, and Juventus. He has won numerous titles, including five UEFA Champions League trophies, and has consistently scored at an elite level throughout his career.\n",
      "3. **Diego Maradona**: A legendary Argentine midfielder, Maradona is widely regarded as one of the greatest players of all time. He led Argentina to World Cup victory in 1986 and is known for his exceptional dribbling skills, vision, and leadership.\n",
      "4. **Johan Cruyff**: A Dutch football legend, Cruyff is credited with revolutionizing the game with his innovative playing style, which emphasized possession football and individual creativity. He won three Ballon d'Or awards and led the Netherlands to the 1974 World Cup final.\n",
      "5. **Pelé**: A Brazilian icon, Pelé is a three-time World Cup winner and is widely regarded as one of the greatest players of all time. He is known for his exceptional speed, skill, and goal-scoring ability, and is credited with popularizing the \"beautiful game\" in Brazil.\n",
      "\n",
      "Other notable mentions include:\n",
      "\n",
      "* **Franz Beckenbauer**: A German football legend, Beckenbauer is a two-time World Cup winner and is credited with inventing the \"sweeper\" position.\n",
      "* **Gerd Müller**: A German striker, Müller is a three-time Ballon d'Or winner and is known for his exceptional goal-scoring ability.\n",
      "* **Zinedine Zidane**: A French midfielder, Zidane is a World Cup winner and is known for his exceptional skill, vision, and leadership.\n",
      "\n",
      "Ultimately, the \"best footballer of all time\" is a matter of personal opinion, and there is no definitive answer. However, these players are widely regarded as among the greatest of all time, and their achievements and contributions to the sport are undeniable.\n"
     ]
    }
   ],
   "source": [
    "from dotenv import load_dotenv\n",
    "import os\n",
    "load_dotenv()  # loads from .env\n",
    "api_key = os.getenv(\"GROQ_API_KEY\")\n",
    "from langchain_groq import ChatGroq\n",
    "llm = ChatGroq(\n",
    "    model=\"llama-3.1-8b-instant\",\n",
    "    temperature=0,\n",
    "    max_tokens=None,\n",
    "    timeout=None, \n",
    "    max_retries=2,\n",
    "    # api_key=\"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\"\n",
    ")\n",
    "response = llm.invoke(\"who is the best footballer of all time?\")\n",
    "print(response.content)"
   ]
  },
  {
   "cell_type": "code",
   "execution_count": null,
   "id": "c451a4b2-af65-4db6-a03a-81e9b6b25bed",
   "metadata": {},
   "outputs": [],
   "source": []
  },
  {
   "cell_type": "code",
   "execution_count": null,
   "id": "7ebabffc-c158-4bce-a36f-2c129be7e767",
   "metadata": {},
   "outputs": [],
   "source": []
  }
 ],
 "metadata": {
  "kernelspec": {
   "display_name": "Python 3 (ipykernel)",
   "language": "python",
   "name": "python3"
  },
  "language_info": {
   "codemirror_mode": {
    "name": "ipython",
    "version": 3
   },
   "file_extension": ".py",
   "mimetype": "text/x-python",
   "name": "python",
   "nbconvert_exporter": "python",
   "pygments_lexer": "ipython3",
   "version": "3.11.0"
  }
 },
 "nbformat": 4,
 "nbformat_minor": 5
}
