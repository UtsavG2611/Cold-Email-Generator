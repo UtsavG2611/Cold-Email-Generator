{
 "cells": [
  {
   "cell_type": "code",
   "execution_count": 1,
   "id": "e693f43f-8463-487b-9e34-a7b9d3af9db3",
   "metadata": {},
   "outputs": [
    {
     "data": {
      "text/plain": [
       "\"\\n1. Search for an open opportunity at your possible potential clients\\n2. Search for relevant information from the opening that might act as a good starting point for your business with this company\\n3. Go through all of your company's projects and find relevant projects\\n4. Get important to share information about these projects\\n5. Write a compelling cold email about how your firm can be of great service to your potential client\\n6. Repeat for ALL potential clients\\n\""
      ]
     },
     "execution_count": 1,
     "metadata": {},
     "output_type": "execute_result"
    }
   ],
   "source": [
    "\"\"\"\n",
    "1. Search for an open opportunity at your possible potential clients\n",
    "2. Search for relevant information from the opening that might act as a good starting point for your business with this company\n",
    "3. Go through all of your company's projects and find relevant projects\n",
    "4. Get important to share information about these projects\n",
    "5. Write a compelling cold email about how your firm can be of great service to your potential client\n",
    "6. Repeat for ALL potential clients\n",
    "\"\"\""
   ]
  },
  {
   "cell_type": "code",
   "execution_count": 2,
   "id": "7eeaf68d-d622-489c-9397-5dba3603d160",
   "metadata": {},
   "outputs": [
    {
     "name": "stdout",
     "output_type": "stream",
     "text": [
      "\u001b[1mLoading .env environment variables\u001b[0m\u001b[1;33m...\u001b[0m\n",
      "\u001b[1;32mInstalling langchain_community...\u001b[0m\n",
      "✔ Installation Succeeded\n",
      "\u001b[1mInstalling dependencies from Pipfile.lock \u001b[0m\u001b[1;39m(f6673e)...\u001b[0m\n",
      "\u001b[32mAll dependencies are now up-to-date!\u001b[0m\n",
      "\u001b[1;32mUpgrading\u001b[0m langchain_community in \u001b[39m dependencies.\u001b[0m\n",
      "\u001b[?25lBuilding requirements...\n",
      "\u001b[2KResolving dependencies....\n",
      "\u001b[2K✔ Success! Locking packages...\n",
      "\u001b[2K\u001b[32m⠙\u001b[0m Locking packages...\n",
      "\u001b[1A\u001b[2K\u001b[?25lBuilding requirements...\n",
      "\u001b[2KResolving dependencies....\n",
      "\u001b[2K✔ Success! Locking packages...\n",
      "\u001b[2K\u001b[32m⠴\u001b[0m Locking packages...\n",
      "\u001b[1A\u001b[2K\u001b[?25lBuilding requirements...\n",
      "\u001b[2KResolving dependencies....\n",
      "\u001b[2K✔ Success! Locking packages...\n",
      "\u001b[2K\u001b[32m⠼\u001b[0m Locking packages...\n",
      "\u001b[1A\u001b[2K\u001b[1mInstalling dependencies from Pipfile.lock \u001b[0m\u001b[1;39m(36fc99)...\u001b[0m\n",
      "\u001b[32mAll dependencies are now up-to-date!\u001b[0m\n",
      "\u001b[1mInstalling dependencies from Pipfile.lock \u001b[0m\u001b[1;39m(36fc99)...\u001b[0m\n"
     ]
    }
   ],
   "source": [
    "#webscrapping\n",
    "!pipenv install langchain_community"
   ]
  },
  {
   "cell_type": "code",
   "execution_count": 7,
   "id": "17dfb9e3-d826-44e4-8649-3dbee2462b18",
   "metadata": {},
   "outputs": [
    {
     "name": "stderr",
     "output_type": "stream",
     "text": [
      "USER_AGENT environment variable not set, consider setting it to identify your requests.\n"
     ]
    }
   ],
   "source": [
    "from langchain_community.document_loaders import WebBaseLoader\n",
    "\n",
    "loader = WebBaseLoader(\"https://careers.nike.com/director-software-engineering/job/R-43982\")\n",
    "page_data = loader.load().pop().page_content"
   ]
  },
  {
   "cell_type": "code",
   "execution_count": 4,
   "id": "84f5e3dc-6c4b-47e0-bf70-84f511ebdf8d",
   "metadata": {},
   "outputs": [
    {
     "name": "stdout",
     "output_type": "stream",
     "text": [
      "Mohammed bin Rashid Al Maktoum is the Vice President and Prime Minister of the UAE, however, the actual day-to-day work is carried out by Mohammed bin Rashid Al Maktoum's deputy, Mohammed bin Abdullah Al Gergawi, who is the Minister of Cabinet Affairs.\n"
     ]
    }
   ],
   "source": [
    "from dotenv import load_dotenv\n",
    "import os\n",
    "load_dotenv()\n",
    "api_key = os.getenv(\"GROQ_API_KEY\")\n",
    "from langchain_groq import ChatGroq\n",
    "llm = ChatGroq(\n",
    "    model=\"llama-3.1-8b-instant\",\n",
    "    temperature=0,\n",
    "    max_tokens=None,\n",
    "    timeout=None, \n",
    "    max_retries=2,\n",
    ")\n",
    "response = llm.invoke(\"who is the prime minister of uae, no preamble\")\n",
    "print(response.content)"
   ]
  },
  {
   "cell_type": "code",
   "execution_count": 10,
   "id": "94e49757-b715-4aaf-999d-db557f12e16f",
   "metadata": {},
   "outputs": [
    {
     "name": "stdout",
     "output_type": "stream",
     "text": [
      "<class 'str'>\n",
      "Please go ahead and provide the scraped text from the job posting. I'll extract the job details and requirements in a JSON format.\n"
     ]
    }
   ],
   "source": [
    "from langchain_core.prompts import PromptTemplate\n",
    "\n",
    "prompt_extract = PromptTemplate.from_template(\n",
    "    \"\"\"\n",
    "    I will give you scraped text from the job posting. \n",
    "    Your job is to extract the job details & requirements in a JSON format containing the following keys: 'role', 'experience', 'skills', and 'description'. \n",
    "    Only return valid JSON. No preamble, please.\n",
    "    Here is the scraped text: {page_data}\n",
    "    \"\"\"\n",
    ")\n",
    "\n",
    "chain_extract = prompt_extract | llm \n",
    "response = chain_extract.invoke(input={'page_data':page_data})\n",
    "print(type(response.content))\n",
    "print(response.content)"
   ]
  },
  {
   "cell_type": "code",
   "execution_count": null,
   "id": "9109da6a-5544-48a0-8063-99bc1f4a57b7",
   "metadata": {},
   "outputs": [],
   "source": []
  }
 ],
 "metadata": {
  "kernelspec": {
   "display_name": "Python 3 (ipykernel)",
   "language": "python",
   "name": "python3"
  },
  "language_info": {
   "codemirror_mode": {
    "name": "ipython",
    "version": 3
   },
   "file_extension": ".py",
   "mimetype": "text/x-python",
   "name": "python",
   "nbconvert_exporter": "python",
   "pygments_lexer": "ipython3",
   "version": "3.11.0"
  }
 },
 "nbformat": 4,
 "nbformat_minor": 5
}
